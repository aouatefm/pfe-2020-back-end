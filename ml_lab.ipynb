{
 "cells": [
  {
   "cell_type": "code",
   "execution_count": 1,
   "metadata": {
    "collapsed": true
   },
   "outputs": [],
   "source": [
    "from services.recommended_products import data_prep\n",
    "from services.product import get_all_products\n",
    "import pandas as pd\n",
    "import pickle\n",
    "from services.recommended_products import recommended_products\n",
    "from pprint import pprint"
   ]
  },
  {
   "cell_type": "code",
   "execution_count": 2,
   "outputs": [
    {
     "data": {
      "text/plain": "42"
     },
     "execution_count": 2,
     "metadata": {},
     "output_type": "execute_result"
    }
   ],
   "source": [
    "products = get_all_products()\n",
    "len(products)"
   ],
   "metadata": {
    "collapsed": false,
    "pycharm": {
     "name": "#%%\n"
    }
   }
  },
  {
   "cell_type": "code",
   "execution_count": 5,
   "outputs": [
    {
     "data": {
      "text/plain": "                     id  ratings_avg video sub_category product_type  \\\n0  0ZI95rnum8b5FMhVVRBt          0.0  None         None         None   \n1  13cMaSbzY9g9uh2z4g1Z          0.0  None         None         None   \n2  1wOdkgJEGSj3xLjfYc5B          0.0  None         None         None   \n3  30WLxhQxWtSKRVcOtTh0          0.0  None         None         None   \n4  4NAdvVCXkZad8ag1t4HN          0.0  None         None         None   \n\n   shipping_price   price                                             images  \\\n0             NaN   199.5  https://firebasestorage.googleapis.com/v0/b/pf...   \n1             NaN   239.5  https://firebasestorage.googleapis.com/v0/b/pf...   \n2             NaN     889  https://firebasestorage.googleapis.com/v0/b/pf...   \n3             NaN  187.00  https://firebasestorage.googleapis.com/v0/b/pf...   \n4             NaN   22.46  https://firebasestorage.googleapis.com/v0/b/pf...   \n\n  stock updated_at         store_id                       created_at  \\\n0    52       None  home-sweet-home 2021-12-25 13:38:28.181309+00:00   \n1    23       None       tech-scope 2021-12-25 14:34:46.530173+00:00   \n2   600       None       tech-scope 2021-12-25 14:35:49.663324+00:00   \n3    32       None       tech-scope 2021-12-25 14:31:58.790117+00:00   \n4    22       None    out-and-about 2021-12-25 21:43:00.902105+00:00   \n\n                     creator_id          category description  \\\n0  wXIC0PBDMHV6EPglCFfrSS0e9qJ3     Home & Office               \n1  B6c6nDNQGXVzU8TV4JM0LRHWbJv2        Electronic               \n2  B6c6nDNQGXVzU8TV4JM0LRHWbJv2        Electronic               \n3  B6c6nDNQGXVzU8TV4JM0LRHWbJv2        Electronic               \n4  0ZNbMi45REZE7yTUtQaoGdXhXdY2  Garden & Outdoor               \n\n                                                name  \n0                   Rose Dream Bedspread Double Pink  \n1  Sony WH-1000XM4 Noise Cancelling Wireless Head...  \n2  2020 Apple MacBook Air Laptop: Apple M1 Chip, ...  \n3  Apple AirPods Pro with MagSafe charging case (...  \n4            Weave Self-Watering Hanging Basket, 14\"  ",
      "text/html": "<div>\n<style scoped>\n    .dataframe tbody tr th:only-of-type {\n        vertical-align: middle;\n    }\n\n    .dataframe tbody tr th {\n        vertical-align: top;\n    }\n\n    .dataframe thead th {\n        text-align: right;\n    }\n</style>\n<table border=\"1\" class=\"dataframe\">\n  <thead>\n    <tr style=\"text-align: right;\">\n      <th></th>\n      <th>id</th>\n      <th>ratings_avg</th>\n      <th>video</th>\n      <th>sub_category</th>\n      <th>product_type</th>\n      <th>shipping_price</th>\n      <th>price</th>\n      <th>images</th>\n      <th>stock</th>\n      <th>updated_at</th>\n      <th>store_id</th>\n      <th>created_at</th>\n      <th>creator_id</th>\n      <th>category</th>\n      <th>description</th>\n      <th>name</th>\n    </tr>\n  </thead>\n  <tbody>\n    <tr>\n      <th>0</th>\n      <td>0ZI95rnum8b5FMhVVRBt</td>\n      <td>0.0</td>\n      <td>None</td>\n      <td>None</td>\n      <td>None</td>\n      <td>NaN</td>\n      <td>199.5</td>\n      <td>https://firebasestorage.googleapis.com/v0/b/pf...</td>\n      <td>52</td>\n      <td>None</td>\n      <td>home-sweet-home</td>\n      <td>2021-12-25 13:38:28.181309+00:00</td>\n      <td>wXIC0PBDMHV6EPglCFfrSS0e9qJ3</td>\n      <td>Home &amp; Office</td>\n      <td></td>\n      <td>Rose Dream Bedspread Double Pink</td>\n    </tr>\n    <tr>\n      <th>1</th>\n      <td>13cMaSbzY9g9uh2z4g1Z</td>\n      <td>0.0</td>\n      <td>None</td>\n      <td>None</td>\n      <td>None</td>\n      <td>NaN</td>\n      <td>239.5</td>\n      <td>https://firebasestorage.googleapis.com/v0/b/pf...</td>\n      <td>23</td>\n      <td>None</td>\n      <td>tech-scope</td>\n      <td>2021-12-25 14:34:46.530173+00:00</td>\n      <td>B6c6nDNQGXVzU8TV4JM0LRHWbJv2</td>\n      <td>Electronic</td>\n      <td></td>\n      <td>Sony WH-1000XM4 Noise Cancelling Wireless Head...</td>\n    </tr>\n    <tr>\n      <th>2</th>\n      <td>1wOdkgJEGSj3xLjfYc5B</td>\n      <td>0.0</td>\n      <td>None</td>\n      <td>None</td>\n      <td>None</td>\n      <td>NaN</td>\n      <td>889</td>\n      <td>https://firebasestorage.googleapis.com/v0/b/pf...</td>\n      <td>600</td>\n      <td>None</td>\n      <td>tech-scope</td>\n      <td>2021-12-25 14:35:49.663324+00:00</td>\n      <td>B6c6nDNQGXVzU8TV4JM0LRHWbJv2</td>\n      <td>Electronic</td>\n      <td></td>\n      <td>2020 Apple MacBook Air Laptop: Apple M1 Chip, ...</td>\n    </tr>\n    <tr>\n      <th>3</th>\n      <td>30WLxhQxWtSKRVcOtTh0</td>\n      <td>0.0</td>\n      <td>None</td>\n      <td>None</td>\n      <td>None</td>\n      <td>NaN</td>\n      <td>187.00</td>\n      <td>https://firebasestorage.googleapis.com/v0/b/pf...</td>\n      <td>32</td>\n      <td>None</td>\n      <td>tech-scope</td>\n      <td>2021-12-25 14:31:58.790117+00:00</td>\n      <td>B6c6nDNQGXVzU8TV4JM0LRHWbJv2</td>\n      <td>Electronic</td>\n      <td></td>\n      <td>Apple AirPods Pro with MagSafe charging case (...</td>\n    </tr>\n    <tr>\n      <th>4</th>\n      <td>4NAdvVCXkZad8ag1t4HN</td>\n      <td>0.0</td>\n      <td>None</td>\n      <td>None</td>\n      <td>None</td>\n      <td>NaN</td>\n      <td>22.46</td>\n      <td>https://firebasestorage.googleapis.com/v0/b/pf...</td>\n      <td>22</td>\n      <td>None</td>\n      <td>out-and-about</td>\n      <td>2021-12-25 21:43:00.902105+00:00</td>\n      <td>0ZNbMi45REZE7yTUtQaoGdXhXdY2</td>\n      <td>Garden &amp; Outdoor</td>\n      <td></td>\n      <td>Weave Self-Watering Hanging Basket, 14\"</td>\n    </tr>\n  </tbody>\n</table>\n</div>"
     },
     "execution_count": 5,
     "metadata": {},
     "output_type": "execute_result"
    }
   ],
   "source": [
    "df = pd.DataFrame(products)\n",
    "df.head()"
   ],
   "metadata": {
    "collapsed": false,
    "pycharm": {
     "name": "#%%\n"
    }
   }
  },
  {
   "cell_type": "code",
   "execution_count": null,
   "outputs": [],
   "source": [
    "df.drop(\n",
    "    columns=['created_at', 'creator_id', 'images', 'price', 'product_type', 'shipping_price', 'sub_category', 'stock',\n",
    "             'updated_at', 'video', 'ratings_avg','id'],\n",
    "    axis=1, inplace=True)\n",
    "df.head()"
   ],
   "metadata": {
    "collapsed": false,
    "pycharm": {
     "name": "#%%\n"
    }
   }
  },
  {
   "cell_type": "code",
   "execution_count": 3,
   "outputs": [],
   "source": [
    "data_prep(products)\n"
   ],
   "metadata": {
    "collapsed": false,
    "pycharm": {
     "name": "#%%\n"
    }
   }
  },
  {
   "cell_type": "code",
   "execution_count": 4,
   "outputs": [
    {
     "name": "stdout",
     "output_type": "stream",
     "text": [
      "title_iloc\n",
      "15\n",
      "([{'confidence': 0.1,\n",
      "   'id': 'MWOERMASu4Hfr8bxq33i',\n",
      "   'images': 'https://firebasestorage.googleapis.com/v0/b/pfe2020-fba1d.appspot.com/o/products%2F533262_1.jpg?alt=media&token=cf77e290-b9bc-4e39-ba33-489f6a4ffa2d',\n",
      "   'name': 'Afterglow flowers',\n",
      "   'price': '0.01'},\n",
      "  {'confidence': 0.0,\n",
      "   'id': 'uUUiqq3rRFxSgu7lEHeP',\n",
      "   'images': 'https://firebasestorage.googleapis.com/v0/b/pfe2020-fba1d.appspot.com/o/products%2FCapture.PNG?alt=media&token=2ecb42f6-a614-4c13-9557-df00348f6fe5',\n",
      "   'name': 'Titan Arch',\n",
      "   'price': '149'},\n",
      "  {'confidence': 0.0,\n",
      "   'id': 'Xg98Kjw4hYsgBTUMCw6P',\n",
      "   'images': 'https://firebasestorage.googleapis.com/v0/b/pfe2020-fba1d.appspot.com/o/products%2Fdvbfd.PNG?alt=media&token=485658f2-79c9-4ec7-af82-25643082c2b1',\n",
      "   'name': 'Triple Wall Planter',\n",
      "   'price': '59.95'},\n",
      "  {'confidence': 0.0,\n",
      "   'id': '6vcecnALvdLewG7XTrsK',\n",
      "   'images': 'https://firebasestorage.googleapis.com/v0/b/pfe2020-fba1d.appspot.com/o/products%2Fvff.PNG?alt=media&token=fee4ce2b-f983-4a93-8671-db551e071a77',\n",
      "   'name': \"3-Tier Vertical Wall Planter, 3'\",\n",
      "   'price': '69.95'},\n",
      "  {'confidence': 0.0,\n",
      "   'id': 'FVKxder5tV8XrTmIGJeE',\n",
      "   'images': 'https://firebasestorage.googleapis.com/v0/b/pfe2020-fba1d.appspot.com/o/products%2Fqdssq.PNG?alt=media&token=ff9c6313-c64d-4fb3-bd17-0156b8026cfc',\n",
      "   'name': 'Lechuza Cube Premium Planters',\n",
      "   'price': '77.99'}],\n",
      " 'recommendation successful')\n"
     ]
    }
   ],
   "source": [
    "rec_model = pickle.load(open('rec_model.pickle', 'rb'))\n",
    "res = recommended_products('Afterglow Potted Amaryllis', products, rec_model)\n",
    "pprint(res)"
   ],
   "metadata": {
    "collapsed": false,
    "pycharm": {
     "name": "#%%\n"
    }
   }
  },
  {
   "cell_type": "code",
   "execution_count": null,
   "outputs": [],
   "source": [
    "name='Afterglow Potted Amaryllis'\n",
    "data = pd.DataFrame(products)\n",
    "title_iloc = data.index[data['name'] == name][0]\n",
    "print(title_iloc)"
   ],
   "metadata": {
    "collapsed": false,
    "pycharm": {
     "name": "#%%\n"
    }
   }
  }
 ],
 "metadata": {
  "kernelspec": {
   "display_name": "Python 3",
   "language": "python",
   "name": "python3"
  },
  "language_info": {
   "codemirror_mode": {
    "name": "ipython",
    "version": 2
   },
   "file_extension": ".py",
   "mimetype": "text/x-python",
   "name": "python",
   "nbconvert_exporter": "python",
   "pygments_lexer": "ipython2",
   "version": "2.7.6"
  }
 },
 "nbformat": 4,
 "nbformat_minor": 0
}